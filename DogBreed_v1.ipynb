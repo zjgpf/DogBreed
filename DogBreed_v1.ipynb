{
 "cells": [
  {
   "cell_type": "markdown",
   "metadata": {},
   "source": [
    "# Dog Breed Identification"
   ]
  },
  {
   "cell_type": "markdown",
   "metadata": {},
   "source": [
    "This kaggle competition is to identify 120 breeds of dogs with limited number training images per class.\n",
    "\n",
    "https://www.kaggle.com/c/dog-breed-identification"
   ]
  },
  {
   "cell_type": "code",
   "execution_count": 1,
   "metadata": {},
   "outputs": [],
   "source": [
    "%reload_ext autoreload\n",
    "%autoreload 2\n",
    "%matplotlib inline"
   ]
  },
  {
   "cell_type": "code",
   "execution_count": 2,
   "metadata": {},
   "outputs": [],
   "source": [
    "from fastai.imports import *\n",
    "from fastai.dataset import *\n",
    "from fastai.sgdr import *\n",
    "from fastai.conv_learner import *\n",
    "from fastai.plots import *\n",
    "from fastai.transforms import *\n",
    "from fastai.model import *"
   ]
  },
  {
   "cell_type": "markdown",
   "metadata": {},
   "source": [
    "## 1. Initial exploration"
   ]
  },
  {
   "cell_type": "markdown",
   "metadata": {},
   "source": [
    "### 1.1 Data directory"
   ]
  },
  {
   "cell_type": "code",
   "execution_count": 3,
   "metadata": {},
   "outputs": [
    {
     "data": {
      "text/plain": [
       "['train.zip',\n",
       " 'test',\n",
       " 'labels.csv.zip',\n",
       " 'labels.csv',\n",
       " 'models',\n",
       " 'train',\n",
       " 'tmp',\n",
       " 'test.zip']"
      ]
     },
     "execution_count": 3,
     "metadata": {},
     "output_type": "execute_result"
    }
   ],
   "source": [
    "PATH = '../data/dogbreed/'\n",
    "os.listdir(PATH)"
   ]
  },
  {
   "cell_type": "markdown",
   "metadata": {},
   "source": [
    "### 1.2 Preview the label file"
   ]
  },
  {
   "cell_type": "code",
   "execution_count": 4,
   "metadata": {},
   "outputs": [
    {
     "name": "stdout",
     "output_type": "stream",
     "text": [
      "(10222, 2)\n"
     ]
    },
    {
     "data": {
      "text/html": [
       "<div>\n",
       "<style scoped>\n",
       "    .dataframe tbody tr th:only-of-type {\n",
       "        vertical-align: middle;\n",
       "    }\n",
       "\n",
       "    .dataframe tbody tr th {\n",
       "        vertical-align: top;\n",
       "    }\n",
       "\n",
       "    .dataframe thead th {\n",
       "        text-align: right;\n",
       "    }\n",
       "</style>\n",
       "<table border=\"1\" class=\"dataframe\">\n",
       "  <thead>\n",
       "    <tr style=\"text-align: right;\">\n",
       "      <th></th>\n",
       "      <th>id</th>\n",
       "      <th>breed</th>\n",
       "    </tr>\n",
       "  </thead>\n",
       "  <tbody>\n",
       "    <tr>\n",
       "      <th>0</th>\n",
       "      <td>000bec180eb18c7604dcecc8fe0dba07</td>\n",
       "      <td>boston_bull</td>\n",
       "    </tr>\n",
       "    <tr>\n",
       "      <th>1</th>\n",
       "      <td>001513dfcb2ffafc82cccf4d8bbaba97</td>\n",
       "      <td>dingo</td>\n",
       "    </tr>\n",
       "    <tr>\n",
       "      <th>2</th>\n",
       "      <td>001cdf01b096e06d78e9e5112d419397</td>\n",
       "      <td>pekinese</td>\n",
       "    </tr>\n",
       "    <tr>\n",
       "      <th>3</th>\n",
       "      <td>00214f311d5d2247d5dfe4fe24b2303d</td>\n",
       "      <td>bluetick</td>\n",
       "    </tr>\n",
       "    <tr>\n",
       "      <th>4</th>\n",
       "      <td>0021f9ceb3235effd7fcde7f7538ed62</td>\n",
       "      <td>golden_retriever</td>\n",
       "    </tr>\n",
       "  </tbody>\n",
       "</table>\n",
       "</div>"
      ],
      "text/plain": [
       "                                 id             breed\n",
       "0  000bec180eb18c7604dcecc8fe0dba07       boston_bull\n",
       "1  001513dfcb2ffafc82cccf4d8bbaba97             dingo\n",
       "2  001cdf01b096e06d78e9e5112d419397          pekinese\n",
       "3  00214f311d5d2247d5dfe4fe24b2303d          bluetick\n",
       "4  0021f9ceb3235effd7fcde7f7538ed62  golden_retriever"
      ]
     },
     "execution_count": 4,
     "metadata": {},
     "output_type": "execute_result"
    }
   ],
   "source": [
    "label_csv = f'{PATH}labels.csv'\n",
    "df = pd.read_csv(label_csv)\n",
    "print(df.shape)\n",
    "df.head()"
   ]
  },
  {
   "cell_type": "markdown",
   "metadata": {},
   "source": [
    "From the data frame above, we know we totally have 10222 images with name(id column) and label(breed column)."
   ]
  },
  {
   "cell_type": "markdown",
   "metadata": {},
   "source": [
    "### 1.3 Show the distribution of dog breeds"
   ]
  },
  {
   "cell_type": "code",
   "execution_count": 13,
   "metadata": {},
   "outputs": [
    {
     "data": {
      "text/html": [
       "<div>\n",
       "<style scoped>\n",
       "    .dataframe tbody tr th:only-of-type {\n",
       "        vertical-align: middle;\n",
       "    }\n",
       "\n",
       "    .dataframe tbody tr th {\n",
       "        vertical-align: top;\n",
       "    }\n",
       "\n",
       "    .dataframe thead th {\n",
       "        text-align: right;\n",
       "    }\n",
       "</style>\n",
       "<table border=\"1\" class=\"dataframe\">\n",
       "  <thead>\n",
       "    <tr style=\"text-align: right;\">\n",
       "      <th></th>\n",
       "      <th>id</th>\n",
       "    </tr>\n",
       "    <tr>\n",
       "      <th>breed</th>\n",
       "      <th></th>\n",
       "    </tr>\n",
       "  </thead>\n",
       "  <tbody>\n",
       "    <tr>\n",
       "      <th>scottish_deerhound</th>\n",
       "      <td>126</td>\n",
       "    </tr>\n",
       "    <tr>\n",
       "      <th>maltese_dog</th>\n",
       "      <td>117</td>\n",
       "    </tr>\n",
       "    <tr>\n",
       "      <th>afghan_hound</th>\n",
       "      <td>116</td>\n",
       "    </tr>\n",
       "    <tr>\n",
       "      <th>entlebucher</th>\n",
       "      <td>115</td>\n",
       "    </tr>\n",
       "    <tr>\n",
       "      <th>bernese_mountain_dog</th>\n",
       "      <td>114</td>\n",
       "    </tr>\n",
       "    <tr>\n",
       "      <th>shih-tzu</th>\n",
       "      <td>112</td>\n",
       "    </tr>\n",
       "    <tr>\n",
       "      <th>great_pyrenees</th>\n",
       "      <td>111</td>\n",
       "    </tr>\n",
       "    <tr>\n",
       "      <th>pomeranian</th>\n",
       "      <td>111</td>\n",
       "    </tr>\n",
       "    <tr>\n",
       "      <th>basenji</th>\n",
       "      <td>110</td>\n",
       "    </tr>\n",
       "    <tr>\n",
       "      <th>samoyed</th>\n",
       "      <td>109</td>\n",
       "    </tr>\n",
       "    <tr>\n",
       "      <th>airedale</th>\n",
       "      <td>107</td>\n",
       "    </tr>\n",
       "    <tr>\n",
       "      <th>tibetan_terrier</th>\n",
       "      <td>107</td>\n",
       "    </tr>\n",
       "    <tr>\n",
       "      <th>leonberg</th>\n",
       "      <td>106</td>\n",
       "    </tr>\n",
       "    <tr>\n",
       "      <th>cairn</th>\n",
       "      <td>106</td>\n",
       "    </tr>\n",
       "    <tr>\n",
       "      <th>beagle</th>\n",
       "      <td>105</td>\n",
       "    </tr>\n",
       "    <tr>\n",
       "      <th>japanese_spaniel</th>\n",
       "      <td>105</td>\n",
       "    </tr>\n",
       "    <tr>\n",
       "      <th>australian_terrier</th>\n",
       "      <td>102</td>\n",
       "    </tr>\n",
       "    <tr>\n",
       "      <th>blenheim_spaniel</th>\n",
       "      <td>102</td>\n",
       "    </tr>\n",
       "    <tr>\n",
       "      <th>miniature_pinscher</th>\n",
       "      <td>102</td>\n",
       "    </tr>\n",
       "    <tr>\n",
       "      <th>irish_wolfhound</th>\n",
       "      <td>101</td>\n",
       "    </tr>\n",
       "    <tr>\n",
       "      <th>lakeland_terrier</th>\n",
       "      <td>99</td>\n",
       "    </tr>\n",
       "    <tr>\n",
       "      <th>saluki</th>\n",
       "      <td>99</td>\n",
       "    </tr>\n",
       "    <tr>\n",
       "      <th>papillon</th>\n",
       "      <td>96</td>\n",
       "    </tr>\n",
       "    <tr>\n",
       "      <th>whippet</th>\n",
       "      <td>95</td>\n",
       "    </tr>\n",
       "    <tr>\n",
       "      <th>siberian_husky</th>\n",
       "      <td>95</td>\n",
       "    </tr>\n",
       "    <tr>\n",
       "      <th>norwegian_elkhound</th>\n",
       "      <td>95</td>\n",
       "    </tr>\n",
       "    <tr>\n",
       "      <th>pug</th>\n",
       "      <td>94</td>\n",
       "    </tr>\n",
       "    <tr>\n",
       "      <th>chow</th>\n",
       "      <td>93</td>\n",
       "    </tr>\n",
       "    <tr>\n",
       "      <th>italian_greyhound</th>\n",
       "      <td>92</td>\n",
       "    </tr>\n",
       "    <tr>\n",
       "      <th>pembroke</th>\n",
       "      <td>92</td>\n",
       "    </tr>\n",
       "    <tr>\n",
       "      <th>...</th>\n",
       "      <td>...</td>\n",
       "    </tr>\n",
       "    <tr>\n",
       "      <th>german_short-haired_pointer</th>\n",
       "      <td>75</td>\n",
       "    </tr>\n",
       "    <tr>\n",
       "      <th>boxer</th>\n",
       "      <td>75</td>\n",
       "    </tr>\n",
       "    <tr>\n",
       "      <th>bull_mastiff</th>\n",
       "      <td>75</td>\n",
       "    </tr>\n",
       "    <tr>\n",
       "      <th>borzoi</th>\n",
       "      <td>75</td>\n",
       "    </tr>\n",
       "    <tr>\n",
       "      <th>pekinese</th>\n",
       "      <td>75</td>\n",
       "    </tr>\n",
       "    <tr>\n",
       "      <th>cocker_spaniel</th>\n",
       "      <td>74</td>\n",
       "    </tr>\n",
       "    <tr>\n",
       "      <th>american_staffordshire_terrier</th>\n",
       "      <td>74</td>\n",
       "    </tr>\n",
       "    <tr>\n",
       "      <th>doberman</th>\n",
       "      <td>74</td>\n",
       "    </tr>\n",
       "    <tr>\n",
       "      <th>brittany_spaniel</th>\n",
       "      <td>73</td>\n",
       "    </tr>\n",
       "    <tr>\n",
       "      <th>malinois</th>\n",
       "      <td>73</td>\n",
       "    </tr>\n",
       "    <tr>\n",
       "      <th>standard_schnauzer</th>\n",
       "      <td>72</td>\n",
       "    </tr>\n",
       "    <tr>\n",
       "      <th>flat-coated_retriever</th>\n",
       "      <td>72</td>\n",
       "    </tr>\n",
       "    <tr>\n",
       "      <th>redbone</th>\n",
       "      <td>72</td>\n",
       "    </tr>\n",
       "    <tr>\n",
       "      <th>border_collie</th>\n",
       "      <td>72</td>\n",
       "    </tr>\n",
       "    <tr>\n",
       "      <th>curly-coated_retriever</th>\n",
       "      <td>72</td>\n",
       "    </tr>\n",
       "    <tr>\n",
       "      <th>kuvasz</th>\n",
       "      <td>71</td>\n",
       "    </tr>\n",
       "    <tr>\n",
       "      <th>chihuahua</th>\n",
       "      <td>71</td>\n",
       "    </tr>\n",
       "    <tr>\n",
       "      <th>soft-coated_wheaten_terrier</th>\n",
       "      <td>71</td>\n",
       "    </tr>\n",
       "    <tr>\n",
       "      <th>french_bulldog</th>\n",
       "      <td>70</td>\n",
       "    </tr>\n",
       "    <tr>\n",
       "      <th>vizsla</th>\n",
       "      <td>70</td>\n",
       "    </tr>\n",
       "    <tr>\n",
       "      <th>tibetan_mastiff</th>\n",
       "      <td>69</td>\n",
       "    </tr>\n",
       "    <tr>\n",
       "      <th>german_shepherd</th>\n",
       "      <td>69</td>\n",
       "    </tr>\n",
       "    <tr>\n",
       "      <th>giant_schnauzer</th>\n",
       "      <td>69</td>\n",
       "    </tr>\n",
       "    <tr>\n",
       "      <th>walker_hound</th>\n",
       "      <td>69</td>\n",
       "    </tr>\n",
       "    <tr>\n",
       "      <th>otterhound</th>\n",
       "      <td>69</td>\n",
       "    </tr>\n",
       "    <tr>\n",
       "      <th>golden_retriever</th>\n",
       "      <td>67</td>\n",
       "    </tr>\n",
       "    <tr>\n",
       "      <th>brabancon_griffon</th>\n",
       "      <td>67</td>\n",
       "    </tr>\n",
       "    <tr>\n",
       "      <th>komondor</th>\n",
       "      <td>67</td>\n",
       "    </tr>\n",
       "    <tr>\n",
       "      <th>briard</th>\n",
       "      <td>66</td>\n",
       "    </tr>\n",
       "    <tr>\n",
       "      <th>eskimo_dog</th>\n",
       "      <td>66</td>\n",
       "    </tr>\n",
       "  </tbody>\n",
       "</table>\n",
       "<p>120 rows × 1 columns</p>\n",
       "</div>"
      ],
      "text/plain": [
       "                                 id\n",
       "breed                              \n",
       "scottish_deerhound              126\n",
       "maltese_dog                     117\n",
       "afghan_hound                    116\n",
       "entlebucher                     115\n",
       "bernese_mountain_dog            114\n",
       "shih-tzu                        112\n",
       "great_pyrenees                  111\n",
       "pomeranian                      111\n",
       "basenji                         110\n",
       "samoyed                         109\n",
       "airedale                        107\n",
       "tibetan_terrier                 107\n",
       "leonberg                        106\n",
       "cairn                           106\n",
       "beagle                          105\n",
       "japanese_spaniel                105\n",
       "australian_terrier              102\n",
       "blenheim_spaniel                102\n",
       "miniature_pinscher              102\n",
       "irish_wolfhound                 101\n",
       "lakeland_terrier                 99\n",
       "saluki                           99\n",
       "papillon                         96\n",
       "whippet                          95\n",
       "siberian_husky                   95\n",
       "norwegian_elkhound               95\n",
       "pug                              94\n",
       "chow                             93\n",
       "italian_greyhound                92\n",
       "pembroke                         92\n",
       "...                             ...\n",
       "german_short-haired_pointer      75\n",
       "boxer                            75\n",
       "bull_mastiff                     75\n",
       "borzoi                           75\n",
       "pekinese                         75\n",
       "cocker_spaniel                   74\n",
       "american_staffordshire_terrier   74\n",
       "doberman                         74\n",
       "brittany_spaniel                 73\n",
       "malinois                         73\n",
       "standard_schnauzer               72\n",
       "flat-coated_retriever            72\n",
       "redbone                          72\n",
       "border_collie                    72\n",
       "curly-coated_retriever           72\n",
       "kuvasz                           71\n",
       "chihuahua                        71\n",
       "soft-coated_wheaten_terrier      71\n",
       "french_bulldog                   70\n",
       "vizsla                           70\n",
       "tibetan_mastiff                  69\n",
       "german_shepherd                  69\n",
       "giant_schnauzer                  69\n",
       "walker_hound                     69\n",
       "otterhound                       69\n",
       "golden_retriever                 67\n",
       "brabancon_griffon                67\n",
       "komondor                         67\n",
       "briard                           66\n",
       "eskimo_dog                       66\n",
       "\n",
       "[120 rows x 1 columns]"
      ]
     },
     "execution_count": 13,
     "metadata": {},
     "output_type": "execute_result"
    }
   ],
   "source": [
    "breed_distri = df.pivot_table(index='breed',aggfunc=len).sort_values('id',ascending = False);breed_distri"
   ]
  },
  {
   "cell_type": "code",
   "execution_count": 18,
   "metadata": {},
   "outputs": [
    {
     "data": {
      "text/plain": [
       "array([[<matplotlib.axes._subplots.AxesSubplot object at 0x0000015D01CE8EB8>]], dtype=object)"
      ]
     },
     "execution_count": 18,
     "metadata": {},
     "output_type": "execute_result"
    },
    {
     "data": {
      "image/png": "[encoded data removed]",
      "text/plain": [
       "<matplotlib.figure.Figure at 0x15d01f7c5f8>"
      ]
     },
     "metadata": {},
     "output_type": "display_data"
    }
   ],
   "source": [
    "breed_distri.hist()"
   ]
  },
  {
   "cell_type": "markdown",
   "metadata": {},
   "source": [
    "The above aggregate data frame and histgram show the distribution of the dog breeds, e.g. the scottish_deerhound has the most images which is 126, and the eskimo_dog has the least images which is 66, most breeds has 80 images."
   ]
  },
  {
   "cell_type": "markdown",
   "metadata": {},
   "source": [
    "### 1.4 View image"
   ]
  },
  {
   "cell_type": "code",
   "execution_count": 5,
   "metadata": {},
   "outputs": [
    {
     "data": {
      "text/plain": [
       "['d8275152fe9027835bec0c405d131a2b.jpg',\n",
       " '44b4684cac2f73ba81b6ed86e45244ad.jpg',\n",
       " 'bc218eeb424cf93092b0a0b23035bbad.jpg',\n",
       " 'eba058daca887257dc71bfd2a0267d29.jpg',\n",
       " '92d23591a857f9adb0024d587683a1cd.jpg']"
      ]
     },
     "execution_count": 5,
     "metadata": {},
     "output_type": "execute_result"
    }
   ],
   "source": [
    "samples = os.listdir(f'{PATH}/train')[:5]\n",
    "samples"
   ]
  },
  {
   "cell_type": "code",
   "execution_count": 6,
   "metadata": {
    "scrolled": true
   },
   "outputs": [
    {
     "data": {
      "text/plain": [
       "<matplotlib.image.AxesImage at 0x7fa06410d438>"
      ]
     },
     "execution_count": 6,
     "metadata": {},
     "output_type": "execute_result"
    },
    {
     "data": {
      "image/png": "[encoded data removed]",
      "text/plain": [
       "<matplotlib.figure.Figure at 0x7fa0d40257b8>"
      ]
     },
     "metadata": {},
     "output_type": "display_data"
    }
   ],
   "source": [
    "p = plt.imread(f'{PATH}/train/{samples[0]}')\n",
    "plt.imshow(p)"
   ]
  },
  {
   "cell_type": "markdown",
   "metadata": {},
   "source": [
    "### 1.5 View raw data"
   ]
  },
  {
   "cell_type": "code",
   "execution_count": 11,
   "metadata": {},
   "outputs": [
    {
     "data": {
      "text/plain": [
       "(375, 500, 3)"
      ]
     },
     "execution_count": 11,
     "metadata": {},
     "output_type": "execute_result"
    }
   ],
   "source": [
    "p.shape"
   ]
  },
  {
   "cell_type": "markdown",
   "metadata": {},
   "source": [
    "By shape property, we can find the image above is 375\\*500\\*3 where 375 is the height of the image, and 500 is the width of the image, and 3 is the channel(Red, Green, Blue) of the image."
   ]
  },
  {
   "cell_type": "code",
   "execution_count": 12,
   "metadata": {},
   "outputs": [
    {
     "data": {
      "text/plain": [
       "array([[[109,  46,   0],\n",
       "        [153,  91,  40],\n",
       "        [180, 120,  68],\n",
       "        [182, 127,  73]],\n",
       "\n",
       "       [[153,  92,  47],\n",
       "        [179, 121,  75],\n",
       "        [167, 111,  64],\n",
       "        [155, 102,  52]],\n",
       "\n",
       "       [[152,  97,  56],\n",
       "        [189, 136,  94],\n",
       "        [164, 113,  70],\n",
       "        [142,  95,  51]],\n",
       "\n",
       "       [[114,  66,  30],\n",
       "        [156, 110,  74],\n",
       "        [145, 101,  64],\n",
       "        [119,  77,  39]]], dtype=uint8)"
      ]
     },
     "execution_count": 12,
     "metadata": {},
     "output_type": "execute_result"
    }
   ],
   "source": [
    "p[:4,:4]"
   ]
  },
  {
   "cell_type": "markdown",
   "metadata": {},
   "source": [
    "### 1.6 View distributions of image size"
   ]
  },
  {
   "cell_type": "code",
   "execution_count": 21,
   "metadata": {},
   "outputs": [],
   "source": [
    "imgs = os.listdir(f'{PATH}train/')"
   ]
  },
  {
   "cell_type": "code",
   "execution_count": 22,
   "metadata": {},
   "outputs": [
    {
     "data": {
      "text/plain": [
       "[(500, 375), (500, 375), (500, 375)]"
      ]
     },
     "execution_count": 22,
     "metadata": {},
     "output_type": "execute_result"
    }
   ],
   "source": [
    "size_d = [PIL.Image.open(f'{PATH}train/{img}').size for img in imgs];size_d[:3]"
   ]
  },
  {
   "cell_type": "code",
   "execution_count": 24,
   "metadata": {},
   "outputs": [],
   "source": [
    "width,height = zip(*size_d)\n",
    "width = np.array(width)\n",
    "height = np.array(height)"
   ]
  },
  {
   "cell_type": "markdown",
   "metadata": {},
   "source": [
    "#### 1.6.1 Distribution of width"
   ]
  },
  {
   "cell_type": "code",
   "execution_count": 26,
   "metadata": {
    "scrolled": true
   },
   "outputs": [
    {
     "data": {
      "text/plain": [
       "(array([3798., 6259.,  108.,   18.,   11.,    4.,   19.,    2.,    1.,    2.]),\n",
       " array([  97. ,  413.7,  730.4, 1047.1, 1363.8, 1680.5, 1997.2, 2313.9, 2630.6, 2947.3, 3264. ]),\n",
       " <a list of 10 Patch objects>)"
      ]
     },
     "execution_count": 26,
     "metadata": {},
     "output_type": "execute_result"
    },
    {
     "data": {
      "image/png": "[encoded data removed]",
      "text/plain": [
       "<matplotlib.figure.Figure at 0x15d021ea908>"
      ]
     },
     "metadata": {},
     "output_type": "display_data"
    }
   ],
   "source": [
    "plt.hist(width)"
   ]
  },
  {
   "cell_type": "markdown",
   "metadata": {},
   "source": [
    "From the histgram above, we find most of width are under 1000, so we use numpy to filter."
   ]
  },
  {
   "cell_type": "code",
   "execution_count": 27,
   "metadata": {
    "scrolled": false
   },
   "outputs": [
    {
     "data": {
      "text/plain": [
       "(array([ 178.,  762., 1671., 1486., 5705.,  155.,   98.,   72.,   15.,   12.]),\n",
       " array([ 97. , 186.3, 275.6, 364.9, 454.2, 543.5, 632.8, 722.1, 811.4, 900.7, 990. ]),\n",
       " <a list of 10 Patch objects>)"
      ]
     },
     "execution_count": 27,
     "metadata": {},
     "output_type": "execute_result"
    },
    {
     "data": {
      "image/png": "[encoded data removed]",
      "text/plain": [
       "<matplotlib.figure.Figure at 0x15d0253d940>"
      ]
     },
     "metadata": {},
     "output_type": "display_data"
    }
   ],
   "source": [
    "plt.hist(width[width<1000])"
   ]
  },
  {
   "cell_type": "markdown",
   "metadata": {},
   "source": [
    "From the histogram above, we can find the most width of imgs are around 450"
   ]
  },
  {
   "cell_type": "markdown",
   "metadata": {},
   "source": [
    "#### 1.6.2 Distribution of height"
   ]
  },
  {
   "cell_type": "code",
   "execution_count": 28,
   "metadata": {},
   "outputs": [
    {
     "data": {
      "text/plain": [
       "(array([3595., 6395.,  150.,   28.,   18.,   20.,   10.,    3.,    0.,    3.]),\n",
       " array([ 102.,  348.,  594.,  840., 1086., 1332., 1578., 1824., 2070., 2316., 2562.]),\n",
       " <a list of 10 Patch objects>)"
      ]
     },
     "execution_count": 28,
     "metadata": {},
     "output_type": "execute_result"
    },
    {
     "data": {
      "image/png": "[encoded data removed]",
      "text/plain": [
       "<matplotlib.figure.Figure at 0x15d01cf71d0>"
      ]
     },
     "metadata": {},
     "output_type": "display_data"
    }
   ],
   "source": [
    "plt.hist(height)"
   ]
  },
  {
   "cell_type": "code",
   "execution_count": 29,
   "metadata": {
    "scrolled": true
   },
   "outputs": [
    {
     "data": {
      "text/plain": [
       "(array([ 302.,  910., 2781., 3685., 2273.,  115.,   33.,   39.,    9.,   11.]),\n",
       " array([102. , 190.2, 278.4, 366.6, 454.8, 543. , 631.2, 719.4, 807.6, 895.8, 984. ]),\n",
       " <a list of 10 Patch objects>)"
      ]
     },
     "execution_count": 29,
     "metadata": {},
     "output_type": "execute_result"
    },
    {
     "data": {
      "image/png": "[encoded data removed]",
      "text/plain": [
       "<matplotlib.figure.Figure at 0x15d03624240>"
      ]
     },
     "metadata": {},
     "output_type": "display_data"
    }
   ],
   "source": [
    "plt.hist(height[height<1000])"
   ]
  },
  {
   "cell_type": "markdown",
   "metadata": {},
   "source": [
    "From the histogram above, we find the most height of images is around 400."
   ]
  },
  {
   "cell_type": "markdown",
   "metadata": {},
   "source": [
    "## 2. Model initialization"
   ]
  },
  {
   "cell_type": "markdown",
   "metadata": {},
   "source": [
    "### 2.1 Get validation set"
   ]
  },
  {
   "cell_type": "code",
   "execution_count": 7,
   "metadata": {},
   "outputs": [
    {
     "data": {
      "text/plain": [
       "(array([2882, 4514, 7717, ..., 8922, 6774,   37]), (2044,))"
      ]
     },
     "execution_count": 7,
     "metadata": {},
     "output_type": "execute_result"
    }
   ],
   "source": [
    "val_idxs = get_cv_idxs(df.shape[0])\n",
    "val_idxs,val_idxs.shape"
   ]
  },
  {
   "cell_type": "markdown",
   "metadata": {},
   "source": [
    "### 2.2 Initial Architecture and data"
   ]
  },
  {
   "cell_type": "code",
   "execution_count": 8,
   "metadata": {},
   "outputs": [
    {
     "data": {
      "text/plain": [
       "(array([ 19,  15,   7, ..., 109,   3,  28]),\n",
       " (2044,),\n",
       " ['affenpinscher',\n",
       "  'afghan_hound',\n",
       "  'african_hunting_dog',\n",
       "  'airedale',\n",
       "  'american_staffordshire_terrier'])"
      ]
     },
     "execution_count": 8,
     "metadata": {},
     "output_type": "execute_result"
    }
   ],
   "source": [
    "arch = resnet34\n",
    "sz = 224\n",
    "bs = 64\n",
    "def get_data(sz,bs):\n",
    "    tfms = tfms_from_model(arch,sz=sz,aug_tfms=transforms_side_on,max_zoom=1.1)\n",
    "    data = ImageClassifierData.from_csv(PATH,'train',label_csv,tfms = tfms, val_idxs=val_idxs,suffix='.jpg',test_name = 'test',num_workers=2,\n",
    "                                       bs = bs)\n",
    "    return data\n",
    "data = get_data(sz,bs)\n",
    "data.val_y,data.val_y.shape,data.classes[:5]"
   ]
  },
  {
   "cell_type": "code",
   "execution_count": 26,
   "metadata": {},
   "outputs": [],
   "source": [
    "learn = ConvLearner.pretrained(arch,data)"
   ]
  },
  {
   "cell_type": "code",
   "execution_count": 29,
   "metadata": {},
   "outputs": [
    {
     "data": {
      "application/vnd.jupyter.widget-view+json": {
       "model_id": "f97d342898874074b58c047258951d20",
       "version_major": 2,
       "version_minor": 0
      },
      "text/html": [
       "<p>Failed to display Jupyter Widget of type <code>HBox</code>.</p>\n",
       "<p>\n",
       "  If you're reading this message in the Jupyter Notebook or JupyterLab Notebook, it may mean\n",
       "  that the widgets JavaScript is still loading. If this message persists, it\n",
       "  likely means that the widgets JavaScript library is either not installed or\n",
       "  not enabled. See the <a href=\"https://ipywidgets.readthedocs.io/en/stable/user_install.html\">Jupyter\n",
       "  Widgets Documentation</a> for setup instructions.\n",
       "</p>\n",
       "<p>\n",
       "  If you're reading this message in another frontend (for example, a static\n",
       "  rendering on GitHub or <a href=\"https://nbviewer.jupyter.org/\">NBViewer</a>),\n",
       "  it may mean that your frontend doesn't currently support widgets.\n",
       "</p>\n"
      ],
      "text/plain": [
       "HBox(children=(IntProgress(value=0, description='Epoch', max=1), HTML(value='')))"
      ]
     },
     "metadata": {},
     "output_type": "display_data"
    },
    {
     "name": "stdout",
     "output_type": "stream",
     "text": [
      " 95%|█████████▌| 122/128 [00:50<00:02,  2.42it/s, loss=22]  CPU times: user 1min 12s, sys: 8.58 s, total: 1min 21s\n",
      "Wall time: 50.8 s\n"
     ]
    }
   ],
   "source": [
    "%time learn.lr_find()"
   ]
  },
  {
   "cell_type": "code",
   "execution_count": 30,
   "metadata": {},
   "outputs": [
    {
     "data": {
      "image/png": "[encoded data removed]",
      "text/plain": [
       "<matplotlib.figure.Figure at 0x7fa0600820f0>"
      ]
     },
     "metadata": {},
     "output_type": "display_data"
    }
   ],
   "source": [
    "learn.sched.plot()"
   ]
  },
  {
   "cell_type": "code",
   "execution_count": 31,
   "metadata": {},
   "outputs": [],
   "source": [
    "learn.save('224_1')"
   ]
  },
  {
   "cell_type": "code",
   "execution_count": 32,
   "metadata": {},
   "outputs": [],
   "source": [
    "learn.set_data(get_data(299,64))"
   ]
  },
  {
   "cell_type": "code",
   "execution_count": 33,
   "metadata": {},
   "outputs": [
    {
     "name": "stderr",
     "output_type": "stream",
     "text": [
      "Exception in thread Thread-26:\n",
      "Traceback (most recent call last):\n",
      "  File \"/home/paperspace/anaconda3/envs/fastai/lib/python3.6/threading.py\", line 916, in _bootstrap_inner\n",
      "    self.run()\n",
      "  File \"/home/paperspace/anaconda3/envs/fastai/lib/python3.6/site-packages/tqdm/_tqdm.py\", line 144, in run\n",
      "    for instance in self.tqdm_cls._instances:\n",
      "  File \"/home/paperspace/anaconda3/envs/fastai/lib/python3.6/_weakrefset.py\", line 60, in __iter__\n",
      "    for itemref in self.data:\n",
      "RuntimeError: Set changed size during iteration\n",
      "\n"
     ]
    },
    {
     "data": {
      "application/vnd.jupyter.widget-view+json": {
       "model_id": "b4a9e33e7dd9442bacd61b26fa904250",
       "version_major": 2,
       "version_minor": 0
      },
      "text/html": [
       "<p>Failed to display Jupyter Widget of type <code>HBox</code>.</p>\n",
       "<p>\n",
       "  If you're reading this message in the Jupyter Notebook or JupyterLab Notebook, it may mean\n",
       "  that the widgets JavaScript is still loading. If this message persists, it\n",
       "  likely means that the widgets JavaScript library is either not installed or\n",
       "  not enabled. See the <a href=\"https://ipywidgets.readthedocs.io/en/stable/user_install.html\">Jupyter\n",
       "  Widgets Documentation</a> for setup instructions.\n",
       "</p>\n",
       "<p>\n",
       "  If you're reading this message in another frontend (for example, a static\n",
       "  rendering on GitHub or <a href=\"https://nbviewer.jupyter.org/\">NBViewer</a>),\n",
       "  it may mean that your frontend doesn't currently support widgets.\n",
       "</p>\n"
      ],
      "text/plain": [
       "HBox(children=(IntProgress(value=0, description='Epoch', max=3), HTML(value='')))"
      ]
     },
     "metadata": {},
     "output_type": "display_data"
    },
    {
     "name": "stdout",
     "output_type": "stream",
     "text": [
      "\n",
      "epoch      trn_loss   val_loss   accuracy                   \n",
      "    0      1.217201   0.558032   0.833789  \n",
      "    1      0.870549   0.504623   0.83916                     \n",
      "    2      0.700521   0.484062   0.846517                    \n",
      "\n"
     ]
    },
    {
     "data": {
      "text/plain": [
       "[0.48406205, 0.846516927704215]"
      ]
     },
     "execution_count": 33,
     "metadata": {},
     "output_type": "execute_result"
    }
   ],
   "source": [
    "lr = 0.1\n",
    "learn.fit(lr,3,cycle_len = 1)"
   ]
  },
  {
   "cell_type": "code",
   "execution_count": 34,
   "metadata": {},
   "outputs": [],
   "source": [
    "learn.save('299_1')"
   ]
  },
  {
   "cell_type": "code",
   "execution_count": 38,
   "metadata": {},
   "outputs": [],
   "source": [
    "learn.load('299_1')\n",
    "learn.set_data(get_data(400,64))"
   ]
  },
  {
   "cell_type": "code",
   "execution_count": 36,
   "metadata": {},
   "outputs": [
    {
     "data": {
      "application/vnd.jupyter.widget-view+json": {
       "model_id": "af0b2e3a1511442e9c5f30dfdfb364ef",
       "version_major": 2,
       "version_minor": 0
      },
      "text/html": [
       "<p>Failed to display Jupyter Widget of type <code>HBox</code>.</p>\n",
       "<p>\n",
       "  If you're reading this message in the Jupyter Notebook or JupyterLab Notebook, it may mean\n",
       "  that the widgets JavaScript is still loading. If this message persists, it\n",
       "  likely means that the widgets JavaScript library is either not installed or\n",
       "  not enabled. See the <a href=\"https://ipywidgets.readthedocs.io/en/stable/user_install.html\">Jupyter\n",
       "  Widgets Documentation</a> for setup instructions.\n",
       "</p>\n",
       "<p>\n",
       "  If you're reading this message in another frontend (for example, a static\n",
       "  rendering on GitHub or <a href=\"https://nbviewer.jupyter.org/\">NBViewer</a>),\n",
       "  it may mean that your frontend doesn't currently support widgets.\n",
       "</p>\n"
      ],
      "text/plain": [
       "HBox(children=(IntProgress(value=0, description='Epoch', max=1), HTML(value='')))"
      ]
     },
     "metadata": {},
     "output_type": "display_data"
    },
    {
     "name": "stdout",
     "output_type": "stream",
     "text": [
      " 91%|█████████▏| 117/128 [02:17<00:12,  1.18s/it, loss=2.4]  "
     ]
    },
    {
     "data": {
      "image/png": "[encoded data removed]",
      "text/plain": [
       "<matplotlib.figure.Figure at 0x7fa06265fb70>"
      ]
     },
     "metadata": {},
     "output_type": "display_data"
    }
   ],
   "source": [
    "learn.lr_find()\n",
    "learn.sched.plot()"
   ]
  },
  {
   "cell_type": "code",
   "execution_count": 39,
   "metadata": {},
   "outputs": [
    {
     "data": {
      "application/vnd.jupyter.widget-view+json": {
       "model_id": "9ccb9e9a15d340f19c2780a2fdc9b97f",
       "version_major": 2,
       "version_minor": 0
      },
      "text/html": [
       "<p>Failed to display Jupyter Widget of type <code>HBox</code>.</p>\n",
       "<p>\n",
       "  If you're reading this message in the Jupyter Notebook or JupyterLab Notebook, it may mean\n",
       "  that the widgets JavaScript is still loading. If this message persists, it\n",
       "  likely means that the widgets JavaScript library is either not installed or\n",
       "  not enabled. See the <a href=\"https://ipywidgets.readthedocs.io/en/stable/user_install.html\">Jupyter\n",
       "  Widgets Documentation</a> for setup instructions.\n",
       "</p>\n",
       "<p>\n",
       "  If you're reading this message in another frontend (for example, a static\n",
       "  rendering on GitHub or <a href=\"https://nbviewer.jupyter.org/\">NBViewer</a>),\n",
       "  it may mean that your frontend doesn't currently support widgets.\n",
       "</p>\n"
      ],
      "text/plain": [
       "HBox(children=(IntProgress(value=0, description='Epoch', max=3), HTML(value='')))"
      ]
     },
     "metadata": {},
     "output_type": "display_data"
    },
    {
     "name": "stdout",
     "output_type": "stream",
     "text": [
      "epoch      trn_loss   val_loss   accuracy                    \n",
      "    0      0.641388   0.504421   0.836719  \n",
      "    1      0.613538   0.500632   0.843522                    \n",
      "    2      0.607575   0.492795   0.846452                    \n",
      "\n",
      "CPU times: user 11min 45s, sys: 2min 46s, total: 14min 32s\n",
      "Wall time: 8min 53s\n"
     ]
    },
    {
     "data": {
      "text/plain": [
       "[0.49279538, 0.846451822668314]"
      ]
     },
     "execution_count": 39,
     "metadata": {},
     "output_type": "execute_result"
    }
   ],
   "source": [
    "lr = 1e-2\n",
    "%time learn.fit(lr,3,cycle_len = 1)"
   ]
  },
  {
   "cell_type": "code",
   "execution_count": 40,
   "metadata": {},
   "outputs": [],
   "source": [
    "learn.save('400_1')"
   ]
  },
  {
   "cell_type": "code",
   "execution_count": 43,
   "metadata": {},
   "outputs": [
    {
     "data": {
      "application/vnd.jupyter.widget-view+json": {
       "model_id": "91c0c13d9fa94addbcb71bb9c3feaa44",
       "version_major": 2,
       "version_minor": 0
      },
      "text/html": [
       "<p>Failed to display Jupyter Widget of type <code>HBox</code>.</p>\n",
       "<p>\n",
       "  If you're reading this message in the Jupyter Notebook or JupyterLab Notebook, it may mean\n",
       "  that the widgets JavaScript is still loading. If this message persists, it\n",
       "  likely means that the widgets JavaScript library is either not installed or\n",
       "  not enabled. See the <a href=\"https://ipywidgets.readthedocs.io/en/stable/user_install.html\">Jupyter\n",
       "  Widgets Documentation</a> for setup instructions.\n",
       "</p>\n",
       "<p>\n",
       "  If you're reading this message in another frontend (for example, a static\n",
       "  rendering on GitHub or <a href=\"https://nbviewer.jupyter.org/\">NBViewer</a>),\n",
       "  it may mean that your frontend doesn't currently support widgets.\n",
       "</p>\n"
      ],
      "text/plain": [
       "HBox(children=(IntProgress(value=0, description='Epoch', max=7), HTML(value='')))"
      ]
     },
     "metadata": {},
     "output_type": "display_data"
    },
    {
     "name": "stdout",
     "output_type": "stream",
     "text": [
      "epoch      trn_loss   val_loss   accuracy                    \n",
      "    0      0.621844   0.494699   0.838639  \n",
      "    1      0.677739   0.558893   0.821549                    \n",
      "    2      0.458814   0.462362   0.853776                    \n",
      "    3      0.618027   0.633273   0.803418                    \n",
      "    4      0.497714   0.561145   0.823958                    \n",
      "    5      0.330594   0.495125   0.847917                    \n",
      "    6      0.264775   0.477799   0.851888                    \n",
      "\n",
      "CPU times: user 47min 3s, sys: 10min 18s, total: 57min 21s\n",
      "Wall time: 39min 58s\n"
     ]
    },
    {
     "data": {
      "text/plain": [
       "[0.47779885, 0.851888021454215]"
      ]
     },
     "execution_count": 43,
     "metadata": {},
     "output_type": "execute_result"
    }
   ],
   "source": [
    "learn.load('400_1')\n",
    "lrs = np.array([lr/100,lr/10,lr])\n",
    "learn.unfreeze()\n",
    "learn.bn_freeze(True)\n",
    "%time learn.fit(lrs,3,cycle_len=1,cycle_mult=2)"
   ]
  },
  {
   "cell_type": "code",
   "execution_count": 44,
   "metadata": {},
   "outputs": [],
   "source": [
    "learn.save('400_2')"
   ]
  },
  {
   "cell_type": "code",
   "execution_count": 45,
   "metadata": {},
   "outputs": [
    {
     "data": {
      "text/html": [
       "<a href='../data/dogbreed/models/400_2.h5' target='_blank'>../data/dogbreed/models/400_2.h5</a><br>"
      ],
      "text/plain": [
       "/home/paperspace/practice/data/dogbreed/models/400_2.h5"
      ]
     },
     "execution_count": 45,
     "metadata": {},
     "output_type": "execute_result"
    }
   ],
   "source": [
    "FileLink(f'{PATH}models/400_2.h5')"
   ]
  },
  {
   "cell_type": "code",
   "execution_count": 46,
   "metadata": {},
   "outputs": [
    {
     "data": {
      "image/png": "[encoded data removed]",
      "text/plain": [
       "<matplotlib.figure.Figure at 0x7fa0627f8f28>"
      ]
     },
     "metadata": {},
     "output_type": "display_data"
    }
   ],
   "source": [
    "learn.sched.plot_lr()"
   ]
  },
  {
   "cell_type": "code",
   "execution_count": 47,
   "metadata": {},
   "outputs": [
    {
     "data": {
      "image/png": "[encoded data removed]",
      "text/plain": [
       "<matplotlib.figure.Figure at 0x7fa06281d550>"
      ]
     },
     "metadata": {},
     "output_type": "display_data"
    }
   ],
   "source": [
    "learn.sched.plot_loss()"
   ]
  },
  {
   "cell_type": "code",
   "execution_count": 48,
   "metadata": {},
   "outputs": [
    {
     "name": "stdout",
     "output_type": "stream",
     "text": [
      "                                              \r"
     ]
    }
   ],
   "source": [
    "pred_log,y = learn.TTA(is_test = True)"
   ]
  },
  {
   "cell_type": "code",
   "execution_count": 54,
   "metadata": {},
   "outputs": [
    {
     "data": {
      "text/plain": [
       "(10357, 120)"
      ]
     },
     "execution_count": 54,
     "metadata": {},
     "output_type": "execute_result"
    }
   ],
   "source": [
    "pred_log_m = np.mean(pred_log,0);pred_log_m.shape"
   ]
  },
  {
   "cell_type": "code",
   "execution_count": 56,
   "metadata": {},
   "outputs": [],
   "source": [
    "pred = np.exp(pred_log_m)"
   ]
  },
  {
   "cell_type": "code",
   "execution_count": 60,
   "metadata": {},
   "outputs": [
    {
     "data": {
      "text/html": [
       "<div>\n",
       "<style scoped>\n",
       "    .dataframe tbody tr th:only-of-type {\n",
       "        vertical-align: middle;\n",
       "    }\n",
       "\n",
       "    .dataframe tbody tr th {\n",
       "        vertical-align: top;\n",
       "    }\n",
       "\n",
       "    .dataframe thead th {\n",
       "        text-align: right;\n",
       "    }\n",
       "</style>\n",
       "<table border=\"1\" class=\"dataframe\">\n",
       "  <thead>\n",
       "    <tr style=\"text-align: right;\">\n",
       "      <th></th>\n",
       "      <th>affenpinscher</th>\n",
       "      <th>afghan_hound</th>\n",
       "      <th>african_hunting_dog</th>\n",
       "      <th>airedale</th>\n",
       "      <th>american_staffordshire_terrier</th>\n",
       "      <th>appenzeller</th>\n",
       "      <th>australian_terrier</th>\n",
       "      <th>basenji</th>\n",
       "      <th>basset</th>\n",
       "      <th>beagle</th>\n",
       "      <th>...</th>\n",
       "      <th>toy_poodle</th>\n",
       "      <th>toy_terrier</th>\n",
       "      <th>vizsla</th>\n",
       "      <th>walker_hound</th>\n",
       "      <th>weimaraner</th>\n",
       "      <th>welsh_springer_spaniel</th>\n",
       "      <th>west_highland_white_terrier</th>\n",
       "      <th>whippet</th>\n",
       "      <th>wire-haired_fox_terrier</th>\n",
       "      <th>yorkshire_terrier</th>\n",
       "    </tr>\n",
       "  </thead>\n",
       "  <tbody>\n",
       "    <tr>\n",
       "      <th>0</th>\n",
       "      <td>3.845954e-10</td>\n",
       "      <td>9.433478e-07</td>\n",
       "      <td>2.386215e-09</td>\n",
       "      <td>3.875006e-08</td>\n",
       "      <td>4.443243e-11</td>\n",
       "      <td>1.240021e-10</td>\n",
       "      <td>4.288901e-10</td>\n",
       "      <td>9.618398e-11</td>\n",
       "      <td>3.059363e-10</td>\n",
       "      <td>2.629091e-12</td>\n",
       "      <td>...</td>\n",
       "      <td>4.378375e-10</td>\n",
       "      <td>1.818251e-12</td>\n",
       "      <td>1.227245e-09</td>\n",
       "      <td>1.368479e-11</td>\n",
       "      <td>1.051872e-08</td>\n",
       "      <td>2.938853e-09</td>\n",
       "      <td>1.379895e-09</td>\n",
       "      <td>3.670873e-09</td>\n",
       "      <td>1.851629e-08</td>\n",
       "      <td>3.901394e-11</td>\n",
       "    </tr>\n",
       "    <tr>\n",
       "      <th>1</th>\n",
       "      <td>8.345556e-07</td>\n",
       "      <td>9.563259e-08</td>\n",
       "      <td>9.514403e-09</td>\n",
       "      <td>6.853242e-09</td>\n",
       "      <td>2.776327e-09</td>\n",
       "      <td>3.648091e-09</td>\n",
       "      <td>3.704807e-08</td>\n",
       "      <td>2.150071e-08</td>\n",
       "      <td>1.284138e-08</td>\n",
       "      <td>9.225744e-12</td>\n",
       "      <td>...</td>\n",
       "      <td>8.775714e-10</td>\n",
       "      <td>8.832873e-11</td>\n",
       "      <td>3.402884e-10</td>\n",
       "      <td>2.426030e-09</td>\n",
       "      <td>7.726172e-10</td>\n",
       "      <td>1.805138e-08</td>\n",
       "      <td>5.350204e-07</td>\n",
       "      <td>5.513285e-08</td>\n",
       "      <td>1.493474e-07</td>\n",
       "      <td>4.606854e-09</td>\n",
       "    </tr>\n",
       "    <tr>\n",
       "      <th>2</th>\n",
       "      <td>3.386114e-07</td>\n",
       "      <td>1.090928e-07</td>\n",
       "      <td>2.082077e-08</td>\n",
       "      <td>1.009106e-02</td>\n",
       "      <td>4.584915e-08</td>\n",
       "      <td>3.531047e-08</td>\n",
       "      <td>1.231090e-06</td>\n",
       "      <td>1.198670e-06</td>\n",
       "      <td>1.870867e-07</td>\n",
       "      <td>5.672229e-08</td>\n",
       "      <td>...</td>\n",
       "      <td>1.316033e-07</td>\n",
       "      <td>2.053653e-07</td>\n",
       "      <td>4.686972e-07</td>\n",
       "      <td>4.157947e-07</td>\n",
       "      <td>4.047831e-09</td>\n",
       "      <td>2.149075e-08</td>\n",
       "      <td>6.707144e-08</td>\n",
       "      <td>7.228723e-06</td>\n",
       "      <td>3.484217e-01</td>\n",
       "      <td>1.574727e-07</td>\n",
       "    </tr>\n",
       "    <tr>\n",
       "      <th>3</th>\n",
       "      <td>5.410110e-06</td>\n",
       "      <td>6.094171e-08</td>\n",
       "      <td>3.145004e-07</td>\n",
       "      <td>1.683162e-07</td>\n",
       "      <td>4.687459e-09</td>\n",
       "      <td>2.820414e-07</td>\n",
       "      <td>2.455133e-06</td>\n",
       "      <td>2.048274e-07</td>\n",
       "      <td>1.078232e-09</td>\n",
       "      <td>2.252536e-09</td>\n",
       "      <td>...</td>\n",
       "      <td>1.653097e-07</td>\n",
       "      <td>1.057247e-07</td>\n",
       "      <td>7.605083e-10</td>\n",
       "      <td>2.273969e-09</td>\n",
       "      <td>4.644636e-08</td>\n",
       "      <td>1.441110e-08</td>\n",
       "      <td>2.459375e-05</td>\n",
       "      <td>2.943904e-08</td>\n",
       "      <td>2.180029e-05</td>\n",
       "      <td>6.334464e-06</td>\n",
       "    </tr>\n",
       "    <tr>\n",
       "      <th>4</th>\n",
       "      <td>1.087692e-06</td>\n",
       "      <td>6.271541e-10</td>\n",
       "      <td>2.308641e-10</td>\n",
       "      <td>1.348939e-06</td>\n",
       "      <td>1.322060e-09</td>\n",
       "      <td>5.274767e-09</td>\n",
       "      <td>2.584349e-09</td>\n",
       "      <td>1.172799e-08</td>\n",
       "      <td>3.080242e-10</td>\n",
       "      <td>8.703930e-11</td>\n",
       "      <td>...</td>\n",
       "      <td>1.272852e-07</td>\n",
       "      <td>1.124969e-09</td>\n",
       "      <td>4.488493e-10</td>\n",
       "      <td>4.856572e-09</td>\n",
       "      <td>1.820182e-10</td>\n",
       "      <td>1.344027e-10</td>\n",
       "      <td>1.273428e-08</td>\n",
       "      <td>2.891422e-08</td>\n",
       "      <td>8.552583e-06</td>\n",
       "      <td>3.976338e-08</td>\n",
       "    </tr>\n",
       "  </tbody>\n",
       "</table>\n",
       "<p>5 rows × 120 columns</p>\n",
       "</div>"
      ],
      "text/plain": [
       "   affenpinscher  afghan_hound  african_hunting_dog      airedale  \\\n",
       "0   3.845954e-10  9.433478e-07         2.386215e-09  3.875006e-08   \n",
       "1   8.345556e-07  9.563259e-08         9.514403e-09  6.853242e-09   \n",
       "2   3.386114e-07  1.090928e-07         2.082077e-08  1.009106e-02   \n",
       "3   5.410110e-06  6.094171e-08         3.145004e-07  1.683162e-07   \n",
       "4   1.087692e-06  6.271541e-10         2.308641e-10  1.348939e-06   \n",
       "\n",
       "   american_staffordshire_terrier   appenzeller  australian_terrier  \\\n",
       "0                    4.443243e-11  1.240021e-10        4.288901e-10   \n",
       "1                    2.776327e-09  3.648091e-09        3.704807e-08   \n",
       "2                    4.584915e-08  3.531047e-08        1.231090e-06   \n",
       "3                    4.687459e-09  2.820414e-07        2.455133e-06   \n",
       "4                    1.322060e-09  5.274767e-09        2.584349e-09   \n",
       "\n",
       "        basenji        basset        beagle        ...            toy_poodle  \\\n",
       "0  9.618398e-11  3.059363e-10  2.629091e-12        ...          4.378375e-10   \n",
       "1  2.150071e-08  1.284138e-08  9.225744e-12        ...          8.775714e-10   \n",
       "2  1.198670e-06  1.870867e-07  5.672229e-08        ...          1.316033e-07   \n",
       "3  2.048274e-07  1.078232e-09  2.252536e-09        ...          1.653097e-07   \n",
       "4  1.172799e-08  3.080242e-10  8.703930e-11        ...          1.272852e-07   \n",
       "\n",
       "    toy_terrier        vizsla  walker_hound    weimaraner  \\\n",
       "0  1.818251e-12  1.227245e-09  1.368479e-11  1.051872e-08   \n",
       "1  8.832873e-11  3.402884e-10  2.426030e-09  7.726172e-10   \n",
       "2  2.053653e-07  4.686972e-07  4.157947e-07  4.047831e-09   \n",
       "3  1.057247e-07  7.605083e-10  2.273969e-09  4.644636e-08   \n",
       "4  1.124969e-09  4.488493e-10  4.856572e-09  1.820182e-10   \n",
       "\n",
       "   welsh_springer_spaniel  west_highland_white_terrier       whippet  \\\n",
       "0            2.938853e-09                 1.379895e-09  3.670873e-09   \n",
       "1            1.805138e-08                 5.350204e-07  5.513285e-08   \n",
       "2            2.149075e-08                 6.707144e-08  7.228723e-06   \n",
       "3            1.441110e-08                 2.459375e-05  2.943904e-08   \n",
       "4            1.344027e-10                 1.273428e-08  2.891422e-08   \n",
       "\n",
       "   wire-haired_fox_terrier  yorkshire_terrier  \n",
       "0             1.851629e-08       3.901394e-11  \n",
       "1             1.493474e-07       4.606854e-09  \n",
       "2             3.484217e-01       1.574727e-07  \n",
       "3             2.180029e-05       6.334464e-06  \n",
       "4             8.552583e-06       3.976338e-08  \n",
       "\n",
       "[5 rows x 120 columns]"
      ]
     },
     "execution_count": 60,
     "metadata": {},
     "output_type": "execute_result"
    }
   ],
   "source": [
    "df = pd.DataFrame(pred)\n",
    "df.columns = data.classes\n",
    "df.head()"
   ]
  },
  {
   "cell_type": "code",
   "execution_count": 61,
   "metadata": {},
   "outputs": [
    {
     "data": {
      "text/plain": [
       "['de084b830010b6107215fef5d4a75b94',\n",
       " '6b423ca7020e70eb05732843c5d2bad1',\n",
       " '74aa7e201e0e93e13e87b986a7d31839']"
      ]
     },
     "execution_count": 61,
     "metadata": {},
     "output_type": "execute_result"
    }
   ],
   "source": [
    "fnames = [f[5:-4] for f in data.test_ds.fnames]\n",
    "fnames[:3]"
   ]
  },
  {
   "cell_type": "code",
   "execution_count": 62,
   "metadata": {},
   "outputs": [
    {
     "data": {
      "text/html": [
       "<div>\n",
       "<style scoped>\n",
       "    .dataframe tbody tr th:only-of-type {\n",
       "        vertical-align: middle;\n",
       "    }\n",
       "\n",
       "    .dataframe tbody tr th {\n",
       "        vertical-align: top;\n",
       "    }\n",
       "\n",
       "    .dataframe thead th {\n",
       "        text-align: right;\n",
       "    }\n",
       "</style>\n",
       "<table border=\"1\" class=\"dataframe\">\n",
       "  <thead>\n",
       "    <tr style=\"text-align: right;\">\n",
       "      <th></th>\n",
       "      <th>id</th>\n",
       "      <th>affenpinscher</th>\n",
       "      <th>afghan_hound</th>\n",
       "      <th>african_hunting_dog</th>\n",
       "      <th>airedale</th>\n",
       "      <th>american_staffordshire_terrier</th>\n",
       "      <th>appenzeller</th>\n",
       "      <th>australian_terrier</th>\n",
       "      <th>basenji</th>\n",
       "      <th>basset</th>\n",
       "      <th>...</th>\n",
       "      <th>toy_poodle</th>\n",
       "      <th>toy_terrier</th>\n",
       "      <th>vizsla</th>\n",
       "      <th>walker_hound</th>\n",
       "      <th>weimaraner</th>\n",
       "      <th>welsh_springer_spaniel</th>\n",
       "      <th>west_highland_white_terrier</th>\n",
       "      <th>whippet</th>\n",
       "      <th>wire-haired_fox_terrier</th>\n",
       "      <th>yorkshire_terrier</th>\n",
       "    </tr>\n",
       "  </thead>\n",
       "  <tbody>\n",
       "    <tr>\n",
       "      <th>10352</th>\n",
       "      <td>9f045f337a40c266d3bf2fdc5d530693</td>\n",
       "      <td>2.262850e-07</td>\n",
       "      <td>1.422632e-07</td>\n",
       "      <td>1.435491e-08</td>\n",
       "      <td>5.652702e-03</td>\n",
       "      <td>4.235631e-07</td>\n",
       "      <td>4.714412e-07</td>\n",
       "      <td>3.402812e-07</td>\n",
       "      <td>3.531994e-06</td>\n",
       "      <td>3.269382e-07</td>\n",
       "      <td>...</td>\n",
       "      <td>2.733867e-04</td>\n",
       "      <td>2.160945e-06</td>\n",
       "      <td>3.926845e-07</td>\n",
       "      <td>5.076048e-07</td>\n",
       "      <td>5.199392e-07</td>\n",
       "      <td>4.655794e-08</td>\n",
       "      <td>5.837174e-06</td>\n",
       "      <td>3.055959e-07</td>\n",
       "      <td>9.441998e-03</td>\n",
       "      <td>1.645025e-06</td>\n",
       "    </tr>\n",
       "    <tr>\n",
       "      <th>10353</th>\n",
       "      <td>939a9c2e93ea2cbfc22f3099e5eea63d</td>\n",
       "      <td>2.934350e-09</td>\n",
       "      <td>1.440020e-10</td>\n",
       "      <td>7.983159e-06</td>\n",
       "      <td>6.032182e-09</td>\n",
       "      <td>4.417517e-09</td>\n",
       "      <td>1.293367e-09</td>\n",
       "      <td>2.666273e-09</td>\n",
       "      <td>5.797056e-09</td>\n",
       "      <td>1.643937e-10</td>\n",
       "      <td>...</td>\n",
       "      <td>3.094914e-09</td>\n",
       "      <td>6.842584e-09</td>\n",
       "      <td>1.240751e-09</td>\n",
       "      <td>4.577974e-09</td>\n",
       "      <td>5.128568e-08</td>\n",
       "      <td>4.644616e-09</td>\n",
       "      <td>6.595188e-09</td>\n",
       "      <td>1.050801e-08</td>\n",
       "      <td>1.731697e-09</td>\n",
       "      <td>4.864014e-10</td>\n",
       "    </tr>\n",
       "    <tr>\n",
       "      <th>10354</th>\n",
       "      <td>f2e0d5786be8d06a284ffd09c056f637</td>\n",
       "      <td>1.244564e-09</td>\n",
       "      <td>1.667225e-10</td>\n",
       "      <td>7.145180e-08</td>\n",
       "      <td>3.774094e-09</td>\n",
       "      <td>5.126736e-09</td>\n",
       "      <td>5.735773e-07</td>\n",
       "      <td>3.171338e-08</td>\n",
       "      <td>3.192671e-06</td>\n",
       "      <td>5.179270e-07</td>\n",
       "      <td>...</td>\n",
       "      <td>5.032997e-09</td>\n",
       "      <td>2.816993e-06</td>\n",
       "      <td>1.026298e-09</td>\n",
       "      <td>6.840869e-07</td>\n",
       "      <td>3.322719e-10</td>\n",
       "      <td>1.360589e-07</td>\n",
       "      <td>3.615873e-08</td>\n",
       "      <td>2.237405e-08</td>\n",
       "      <td>8.963307e-09</td>\n",
       "      <td>6.918992e-09</td>\n",
       "    </tr>\n",
       "    <tr>\n",
       "      <th>10355</th>\n",
       "      <td>1618763d5cd4c51c555ea05a3048a117</td>\n",
       "      <td>1.421156e-12</td>\n",
       "      <td>1.735979e-10</td>\n",
       "      <td>1.687571e-12</td>\n",
       "      <td>3.622213e-14</td>\n",
       "      <td>6.344132e-15</td>\n",
       "      <td>7.836102e-17</td>\n",
       "      <td>2.328385e-11</td>\n",
       "      <td>3.979789e-16</td>\n",
       "      <td>1.708783e-12</td>\n",
       "      <td>...</td>\n",
       "      <td>5.275023e-15</td>\n",
       "      <td>2.468960e-15</td>\n",
       "      <td>4.626678e-12</td>\n",
       "      <td>4.810698e-16</td>\n",
       "      <td>4.733810e-13</td>\n",
       "      <td>1.464627e-12</td>\n",
       "      <td>1.099052e-16</td>\n",
       "      <td>8.872395e-16</td>\n",
       "      <td>1.477808e-15</td>\n",
       "      <td>8.351311e-13</td>\n",
       "    </tr>\n",
       "    <tr>\n",
       "      <th>10356</th>\n",
       "      <td>d0abf32cdef48936e7c843311121ab0b</td>\n",
       "      <td>3.238223e-10</td>\n",
       "      <td>4.106694e-12</td>\n",
       "      <td>4.222851e-10</td>\n",
       "      <td>4.448722e-11</td>\n",
       "      <td>2.161614e-11</td>\n",
       "      <td>1.964345e-09</td>\n",
       "      <td>3.900773e-09</td>\n",
       "      <td>1.975432e-05</td>\n",
       "      <td>2.361329e-11</td>\n",
       "      <td>...</td>\n",
       "      <td>2.732763e-07</td>\n",
       "      <td>9.911152e-01</td>\n",
       "      <td>3.122251e-10</td>\n",
       "      <td>2.343284e-10</td>\n",
       "      <td>6.001286e-10</td>\n",
       "      <td>3.238664e-12</td>\n",
       "      <td>3.869681e-08</td>\n",
       "      <td>3.773439e-09</td>\n",
       "      <td>1.563217e-09</td>\n",
       "      <td>3.739150e-07</td>\n",
       "    </tr>\n",
       "  </tbody>\n",
       "</table>\n",
       "<p>5 rows × 121 columns</p>\n",
       "</div>"
      ],
      "text/plain": [
       "                                     id  affenpinscher  afghan_hound  \\\n",
       "10352  9f045f337a40c266d3bf2fdc5d530693   2.262850e-07  1.422632e-07   \n",
       "10353  939a9c2e93ea2cbfc22f3099e5eea63d   2.934350e-09  1.440020e-10   \n",
       "10354  f2e0d5786be8d06a284ffd09c056f637   1.244564e-09  1.667225e-10   \n",
       "10355  1618763d5cd4c51c555ea05a3048a117   1.421156e-12  1.735979e-10   \n",
       "10356  d0abf32cdef48936e7c843311121ab0b   3.238223e-10  4.106694e-12   \n",
       "\n",
       "       african_hunting_dog      airedale  american_staffordshire_terrier  \\\n",
       "10352         1.435491e-08  5.652702e-03                    4.235631e-07   \n",
       "10353         7.983159e-06  6.032182e-09                    4.417517e-09   \n",
       "10354         7.145180e-08  3.774094e-09                    5.126736e-09   \n",
       "10355         1.687571e-12  3.622213e-14                    6.344132e-15   \n",
       "10356         4.222851e-10  4.448722e-11                    2.161614e-11   \n",
       "\n",
       "        appenzeller  australian_terrier       basenji        basset  \\\n",
       "10352  4.714412e-07        3.402812e-07  3.531994e-06  3.269382e-07   \n",
       "10353  1.293367e-09        2.666273e-09  5.797056e-09  1.643937e-10   \n",
       "10354  5.735773e-07        3.171338e-08  3.192671e-06  5.179270e-07   \n",
       "10355  7.836102e-17        2.328385e-11  3.979789e-16  1.708783e-12   \n",
       "10356  1.964345e-09        3.900773e-09  1.975432e-05  2.361329e-11   \n",
       "\n",
       "             ...            toy_poodle   toy_terrier        vizsla  \\\n",
       "10352        ...          2.733867e-04  2.160945e-06  3.926845e-07   \n",
       "10353        ...          3.094914e-09  6.842584e-09  1.240751e-09   \n",
       "10354        ...          5.032997e-09  2.816993e-06  1.026298e-09   \n",
       "10355        ...          5.275023e-15  2.468960e-15  4.626678e-12   \n",
       "10356        ...          2.732763e-07  9.911152e-01  3.122251e-10   \n",
       "\n",
       "       walker_hound    weimaraner  welsh_springer_spaniel  \\\n",
       "10352  5.076048e-07  5.199392e-07            4.655794e-08   \n",
       "10353  4.577974e-09  5.128568e-08            4.644616e-09   \n",
       "10354  6.840869e-07  3.322719e-10            1.360589e-07   \n",
       "10355  4.810698e-16  4.733810e-13            1.464627e-12   \n",
       "10356  2.343284e-10  6.001286e-10            3.238664e-12   \n",
       "\n",
       "       west_highland_white_terrier       whippet  wire-haired_fox_terrier  \\\n",
       "10352                 5.837174e-06  3.055959e-07             9.441998e-03   \n",
       "10353                 6.595188e-09  1.050801e-08             1.731697e-09   \n",
       "10354                 3.615873e-08  2.237405e-08             8.963307e-09   \n",
       "10355                 1.099052e-16  8.872395e-16             1.477808e-15   \n",
       "10356                 3.869681e-08  3.773439e-09             1.563217e-09   \n",
       "\n",
       "       yorkshire_terrier  \n",
       "10352       1.645025e-06  \n",
       "10353       4.864014e-10  \n",
       "10354       6.918992e-09  \n",
       "10355       8.351311e-13  \n",
       "10356       3.739150e-07  \n",
       "\n",
       "[5 rows x 121 columns]"
      ]
     },
     "execution_count": 62,
     "metadata": {},
     "output_type": "execute_result"
    }
   ],
   "source": [
    "df.insert(0,'id',fnames)\n",
    "df.tail()"
   ]
  },
  {
   "cell_type": "code",
   "execution_count": 64,
   "metadata": {},
   "outputs": [
    {
     "data": {
      "text/html": [
       "<a href='../data/dogbreed/sub.csv' target='_blank'>../data/dogbreed/sub.csv</a><br>"
      ],
      "text/plain": [
       "/home/paperspace/practice/data/dogbreed/sub.csv"
      ]
     },
     "execution_count": 64,
     "metadata": {},
     "output_type": "execute_result"
    }
   ],
   "source": [
    "sub = f'{PATH}sub.csv'\n",
    "df.to_csv(sub,index=False)\n",
    "FileLink(sub)"
   ]
  },
  {
   "cell_type": "code",
   "execution_count": null,
   "metadata": {},
   "outputs": [],
   "source": []
  }
 ],
 "metadata": {
  "kernelspec": {
   "display_name": "Python 3",
   "language": "python",
   "name": "python3"
  },
  "language_info": {
   "codemirror_mode": {
    "name": "ipython",
    "version": 3
   },
   "file_extension": ".py",
   "mimetype": "text/x-python",
   "name": "python",
   "nbconvert_exporter": "python",
   "pygments_lexer": "ipython3",
   "version": "3.6.4"
  }
 },
 "nbformat": 4,
 "nbformat_minor": 2
}
